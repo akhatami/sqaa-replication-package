{
 "cells": [
  {
   "cell_type": "code",
   "execution_count": 1,
   "metadata": {},
   "outputs": [],
   "source": [
    "import pandas as pd\n",
    "import plotly.graph_objects as go\n",
    "import colorlover as cl"
   ]
  },
  {
   "cell_type": "code",
   "execution_count": 2,
   "metadata": {},
   "outputs": [
    {
     "data": {
      "text/html": [
       "<div>\n",
       "<style scoped>\n",
       "    .dataframe tbody tr th:only-of-type {\n",
       "        vertical-align: middle;\n",
       "    }\n",
       "\n",
       "    .dataframe tbody tr th {\n",
       "        vertical-align: top;\n",
       "    }\n",
       "\n",
       "    .dataframe thead th {\n",
       "        text-align: right;\n",
       "    }\n",
       "</style>\n",
       "<table border=\"1\" class=\"dataframe\">\n",
       "  <thead>\n",
       "    <tr style=\"text-align: right;\">\n",
       "      <th></th>\n",
       "      <th>Area</th>\n",
       "      <th>Extremely dissatisfied</th>\n",
       "      <th>Moderately dissatisfied</th>\n",
       "      <th>Slightly dissatisfied</th>\n",
       "      <th>Neither satisfied nor dissatisfied</th>\n",
       "      <th>Neither satisfied nor dissatisfied.1</th>\n",
       "      <th>Slightly satisfied</th>\n",
       "      <th>Moderately satisfied</th>\n",
       "      <th>Extremely satisfied</th>\n",
       "    </tr>\n",
       "  </thead>\n",
       "  <tbody>\n",
       "    <tr>\n",
       "      <th>0</th>\n",
       "      <td>Provided information&lt;br&gt;and statistics</td>\n",
       "      <td>0</td>\n",
       "      <td>1</td>\n",
       "      <td>1</td>\n",
       "      <td>0</td>\n",
       "      <td>0</td>\n",
       "      <td>2</td>\n",
       "      <td>9</td>\n",
       "      <td>1</td>\n",
       "    </tr>\n",
       "    <tr>\n",
       "      <th>1</th>\n",
       "      <td>The global overview</td>\n",
       "      <td>0</td>\n",
       "      <td>1</td>\n",
       "      <td>0</td>\n",
       "      <td>0</td>\n",
       "      <td>1</td>\n",
       "      <td>3</td>\n",
       "      <td>6</td>\n",
       "      <td>3</td>\n",
       "    </tr>\n",
       "    <tr>\n",
       "      <th>2</th>\n",
       "      <td>The comparative aspect</td>\n",
       "      <td>1</td>\n",
       "      <td>2</td>\n",
       "      <td>0</td>\n",
       "      <td>1</td>\n",
       "      <td>2</td>\n",
       "      <td>4</td>\n",
       "      <td>0</td>\n",
       "      <td>4</td>\n",
       "    </tr>\n",
       "    <tr>\n",
       "      <th>3</th>\n",
       "      <td>Actionable insights</td>\n",
       "      <td>0</td>\n",
       "      <td>1</td>\n",
       "      <td>2</td>\n",
       "      <td>0</td>\n",
       "      <td>1</td>\n",
       "      <td>4</td>\n",
       "      <td>3</td>\n",
       "      <td>3</td>\n",
       "    </tr>\n",
       "    <tr>\n",
       "      <th>4</th>\n",
       "      <td>User interface</td>\n",
       "      <td>0</td>\n",
       "      <td>0</td>\n",
       "      <td>2</td>\n",
       "      <td>1</td>\n",
       "      <td>2</td>\n",
       "      <td>4</td>\n",
       "      <td>4</td>\n",
       "      <td>1</td>\n",
       "    </tr>\n",
       "  </tbody>\n",
       "</table>\n",
       "</div>"
      ],
      "text/plain": [
       "                                     Area  Extremely dissatisfied  \\\n",
       "0  Provided information<br>and statistics                       0   \n",
       "1                     The global overview                       0   \n",
       "2                  The comparative aspect                       1   \n",
       "3                     Actionable insights                       0   \n",
       "4                          User interface                       0   \n",
       "\n",
       "   Moderately dissatisfied  Slightly dissatisfied  \\\n",
       "0                        1                      1   \n",
       "1                        1                      0   \n",
       "2                        2                      0   \n",
       "3                        1                      2   \n",
       "4                        0                      2   \n",
       "\n",
       "   Neither satisfied nor dissatisfied  Neither satisfied nor dissatisfied.1  \\\n",
       "0                                   0                                     0   \n",
       "1                                   0                                     1   \n",
       "2                                   1                                     2   \n",
       "3                                   0                                     1   \n",
       "4                                   1                                     2   \n",
       "\n",
       "   Slightly satisfied  Moderately satisfied  Extremely satisfied  \n",
       "0                   2                     9                    1  \n",
       "1                   3                     6                    3  \n",
       "2                   4                     0                    4  \n",
       "3                   4                     3                    3  \n",
       "4                   4                     4                    1  "
      ]
     },
     "execution_count": 2,
     "metadata": {},
     "output_type": "execute_result"
    }
   ],
   "source": [
    "df = pd.read_csv('../survey-answers-data/satisfaction-alt.csv')\n",
    "df.head()"
   ]
  },
  {
   "cell_type": "code",
   "execution_count": 3,
   "metadata": {},
   "outputs": [
    {
     "data": {
      "text/html": [
       "<div>\n",
       "<style scoped>\n",
       "    .dataframe tbody tr th:only-of-type {\n",
       "        vertical-align: middle;\n",
       "    }\n",
       "\n",
       "    .dataframe tbody tr th {\n",
       "        vertical-align: top;\n",
       "    }\n",
       "\n",
       "    .dataframe thead th {\n",
       "        text-align: right;\n",
       "    }\n",
       "</style>\n",
       "<table border=\"1\" class=\"dataframe\">\n",
       "  <thead>\n",
       "    <tr style=\"text-align: right;\">\n",
       "      <th></th>\n",
       "      <th>Extremely dissatisfied</th>\n",
       "      <th>Moderately dissatisfied</th>\n",
       "      <th>Slightly dissatisfied</th>\n",
       "      <th>Neither satisfied nor dissatisfied</th>\n",
       "      <th>Neither satisfied nor dissatisfied.1</th>\n",
       "      <th>Slightly satisfied</th>\n",
       "      <th>Moderately satisfied</th>\n",
       "      <th>Extremely satisfied</th>\n",
       "    </tr>\n",
       "    <tr>\n",
       "      <th>Area</th>\n",
       "      <th></th>\n",
       "      <th></th>\n",
       "      <th></th>\n",
       "      <th></th>\n",
       "      <th></th>\n",
       "      <th></th>\n",
       "      <th></th>\n",
       "      <th></th>\n",
       "    </tr>\n",
       "  </thead>\n",
       "  <tbody>\n",
       "    <tr>\n",
       "      <th>Provided information&lt;br&gt;and statistics</th>\n",
       "      <td>0</td>\n",
       "      <td>1</td>\n",
       "      <td>1</td>\n",
       "      <td>0</td>\n",
       "      <td>0</td>\n",
       "      <td>2</td>\n",
       "      <td>9</td>\n",
       "      <td>1</td>\n",
       "    </tr>\n",
       "    <tr>\n",
       "      <th>The global overview</th>\n",
       "      <td>0</td>\n",
       "      <td>1</td>\n",
       "      <td>0</td>\n",
       "      <td>0</td>\n",
       "      <td>1</td>\n",
       "      <td>3</td>\n",
       "      <td>6</td>\n",
       "      <td>3</td>\n",
       "    </tr>\n",
       "    <tr>\n",
       "      <th>The comparative aspect</th>\n",
       "      <td>1</td>\n",
       "      <td>2</td>\n",
       "      <td>0</td>\n",
       "      <td>1</td>\n",
       "      <td>2</td>\n",
       "      <td>4</td>\n",
       "      <td>0</td>\n",
       "      <td>4</td>\n",
       "    </tr>\n",
       "    <tr>\n",
       "      <th>Actionable insights</th>\n",
       "      <td>0</td>\n",
       "      <td>1</td>\n",
       "      <td>2</td>\n",
       "      <td>0</td>\n",
       "      <td>1</td>\n",
       "      <td>4</td>\n",
       "      <td>3</td>\n",
       "      <td>3</td>\n",
       "    </tr>\n",
       "    <tr>\n",
       "      <th>User interface</th>\n",
       "      <td>0</td>\n",
       "      <td>0</td>\n",
       "      <td>2</td>\n",
       "      <td>1</td>\n",
       "      <td>2</td>\n",
       "      <td>4</td>\n",
       "      <td>4</td>\n",
       "      <td>1</td>\n",
       "    </tr>\n",
       "  </tbody>\n",
       "</table>\n",
       "</div>"
      ],
      "text/plain": [
       "                                        Extremely dissatisfied  \\\n",
       "Area                                                             \n",
       "Provided information<br>and statistics                       0   \n",
       "The global overview                                          0   \n",
       "The comparative aspect                                       1   \n",
       "Actionable insights                                          0   \n",
       "User interface                                               0   \n",
       "\n",
       "                                        Moderately dissatisfied  \\\n",
       "Area                                                              \n",
       "Provided information<br>and statistics                        1   \n",
       "The global overview                                           1   \n",
       "The comparative aspect                                        2   \n",
       "Actionable insights                                           1   \n",
       "User interface                                                0   \n",
       "\n",
       "                                        Slightly dissatisfied  \\\n",
       "Area                                                            \n",
       "Provided information<br>and statistics                      1   \n",
       "The global overview                                         0   \n",
       "The comparative aspect                                      0   \n",
       "Actionable insights                                         2   \n",
       "User interface                                              2   \n",
       "\n",
       "                                        Neither satisfied nor dissatisfied  \\\n",
       "Area                                                                         \n",
       "Provided information<br>and statistics                                   0   \n",
       "The global overview                                                      0   \n",
       "The comparative aspect                                                   1   \n",
       "Actionable insights                                                      0   \n",
       "User interface                                                           1   \n",
       "\n",
       "                                        Neither satisfied nor dissatisfied.1  \\\n",
       "Area                                                                           \n",
       "Provided information<br>and statistics                                     0   \n",
       "The global overview                                                        1   \n",
       "The comparative aspect                                                     2   \n",
       "Actionable insights                                                        1   \n",
       "User interface                                                             2   \n",
       "\n",
       "                                        Slightly satisfied  \\\n",
       "Area                                                         \n",
       "Provided information<br>and statistics                   2   \n",
       "The global overview                                      3   \n",
       "The comparative aspect                                   4   \n",
       "Actionable insights                                      4   \n",
       "User interface                                           4   \n",
       "\n",
       "                                        Moderately satisfied  \\\n",
       "Area                                                           \n",
       "Provided information<br>and statistics                     9   \n",
       "The global overview                                        6   \n",
       "The comparative aspect                                     0   \n",
       "Actionable insights                                        3   \n",
       "User interface                                             4   \n",
       "\n",
       "                                        Extremely satisfied  \n",
       "Area                                                         \n",
       "Provided information<br>and statistics                    1  \n",
       "The global overview                                       3  \n",
       "The comparative aspect                                    4  \n",
       "Actionable insights                                       3  \n",
       "User interface                                            1  "
      ]
     },
     "execution_count": 3,
     "metadata": {},
     "output_type": "execute_result"
    }
   ],
   "source": [
    "df = df.set_index('Area')\n",
    "df.head()"
   ]
  },
  {
   "cell_type": "code",
   "execution_count": 4,
   "metadata": {},
   "outputs": [],
   "source": [
    "df['Extremely dissatisfied'] = df['Extremely dissatisfied'] * -1\n",
    "df['Moderately dissatisfied'] = df['Moderately dissatisfied'] * -1\n",
    "df['Slightly dissatisfied'] = df['Slightly dissatisfied'] * -1\n",
    "df['Neither satisfied nor dissatisfied'] = df['Neither satisfied nor dissatisfied'] * -1"
   ]
  },
  {
   "cell_type": "code",
   "execution_count": 5,
   "metadata": {},
   "outputs": [
    {
     "data": {
      "application/vnd.plotly.v1+json": {
       "config": {
        "plotlyServerURL": "https://plot.ly"
       },
       "data": [
        {
         "legend": "legend2",
         "legendrank": 4,
         "marker": {
          "color": "lightgrey"
         },
         "name": "Neither satisfied<br>nor dissatisfied",
         "orientation": "h",
         "textfont": {
          "size": 18
         },
         "textposition": "inside",
         "type": "bar",
         "x": [
          -1,
          0,
          -1,
          0,
          0
         ],
         "y": [
          "User interface",
          "Actionable insights",
          "The comparative aspect",
          "The global overview",
          "Provided information<br>and statistics"
         ]
        },
        {
         "legend": "legend2",
         "marker": {
          "color": "lightgrey"
         },
         "name": "Neither satisfied nor dissatisfied.1",
         "orientation": "h",
         "showlegend": false,
         "text": [
          3,
          1,
          3,
          1,
          0
         ],
         "textfont": {
          "size": 18
         },
         "textposition": "inside",
         "type": "bar",
         "x": [
          2,
          1,
          2,
          1,
          0
         ],
         "y": [
          "User interface",
          "Actionable insights",
          "The comparative aspect",
          "The global overview",
          "Provided information<br>and statistics"
         ]
        },
        {
         "legend": "legend3",
         "legendrank": 3,
         "marker": {
          "color": "rgb(253,174,97)"
         },
         "name": "Slightly dissatisfied",
         "orientation": "h",
         "text": [
          2,
          2,
          0,
          0,
          1
         ],
         "textfont": {
          "size": 18
         },
         "textposition": "inside",
         "type": "bar",
         "x": [
          -2,
          -2,
          0,
          0,
          -1
         ],
         "y": [
          "User interface",
          "Actionable insights",
          "The comparative aspect",
          "The global overview",
          "Provided information<br>and statistics"
         ]
        },
        {
         "legend": "legend3",
         "legendrank": 2,
         "marker": {
          "color": "rgb(244,109,67)"
         },
         "name": "Moderately dissatisfied",
         "orientation": "h",
         "text": [
          0,
          1,
          2,
          1,
          1
         ],
         "textfont": {
          "size": 18
         },
         "textposition": "inside",
         "type": "bar",
         "x": [
          0,
          -1,
          -2,
          -1,
          -1
         ],
         "y": [
          "User interface",
          "Actionable insights",
          "The comparative aspect",
          "The global overview",
          "Provided information<br>and statistics"
         ]
        },
        {
         "legend": "legend3",
         "legendrank": 1,
         "marker": {
          "color": "rgb(215,48,39)"
         },
         "name": "Extremely dissatisfied",
         "orientation": "h",
         "text": [
          0,
          0,
          1,
          0,
          0
         ],
         "textfont": {
          "size": 18
         },
         "textposition": "inside",
         "type": "bar",
         "x": [
          0,
          0,
          -1,
          0,
          0
         ],
         "y": [
          "User interface",
          "Actionable insights",
          "The comparative aspect",
          "The global overview",
          "Provided information<br>and statistics"
         ]
        },
        {
         "legendrank": 5,
         "marker": {
          "color": "rgb(166,217,106)"
         },
         "name": "Slightly satisfied",
         "orientation": "h",
         "text": [
          4,
          4,
          4,
          3,
          2
         ],
         "textfont": {
          "size": 18
         },
         "textposition": "inside",
         "type": "bar",
         "x": [
          4,
          4,
          4,
          3,
          2
         ],
         "y": [
          "User interface",
          "Actionable insights",
          "The comparative aspect",
          "The global overview",
          "Provided information<br>and statistics"
         ]
        },
        {
         "legendrank": 6,
         "marker": {
          "color": "rgb(102,189,99)"
         },
         "name": "Moderately satisfied",
         "orientation": "h",
         "text": [
          4,
          3,
          0,
          6,
          9
         ],
         "textfont": {
          "size": 18
         },
         "textposition": "inside",
         "type": "bar",
         "x": [
          4,
          3,
          0,
          6,
          9
         ],
         "y": [
          "User interface",
          "Actionable insights",
          "The comparative aspect",
          "The global overview",
          "Provided information<br>and statistics"
         ]
        },
        {
         "legendrank": 7,
         "marker": {
          "color": "rgb(26,152,80)"
         },
         "name": "Extremely satisfied",
         "orientation": "h",
         "text": [
          1,
          3,
          4,
          3,
          1
         ],
         "textfont": {
          "size": 18
         },
         "textposition": "inside",
         "type": "bar",
         "x": [
          1,
          3,
          4,
          3,
          1
         ],
         "y": [
          "User interface",
          "Actionable insights",
          "The comparative aspect",
          "The global overview",
          "Provided information<br>and statistics"
         ]
        }
       ],
       "layout": {
        "autosize": false,
        "barmode": "relative",
        "height": 350,
        "legend": {
         "font": {
          "size": 16
         },
         "orientation": "v",
         "traceorder": "reversed",
         "x": 0.85,
         "xanchor": "center",
         "y": -0.08,
         "yanchor": "top"
        },
        "legend2": {
         "font": {
          "size": 16
         },
         "orientation": "v",
         "traceorder": "reversed",
         "x": 0.35,
         "xanchor": "center",
         "y": -0.08,
         "yanchor": "top"
        },
        "legend3": {
         "font": {
          "size": 16
         },
         "orientation": "v",
         "traceorder": "reversed",
         "x": -0.15,
         "xanchor": "center",
         "y": -0.08,
         "yanchor": "top"
        },
        "margin": {
         "b": 5,
         "l": 200,
         "r": 5,
         "t": 5
        },
        "template": {
         "data": {
          "bar": [
           {
            "error_x": {
             "color": "#2a3f5f"
            },
            "error_y": {
             "color": "#2a3f5f"
            },
            "marker": {
             "line": {
              "color": "#E5ECF6",
              "width": 0.5
             },
             "pattern": {
              "fillmode": "overlay",
              "size": 10,
              "solidity": 0.2
             }
            },
            "type": "bar"
           }
          ],
          "barpolar": [
           {
            "marker": {
             "line": {
              "color": "#E5ECF6",
              "width": 0.5
             },
             "pattern": {
              "fillmode": "overlay",
              "size": 10,
              "solidity": 0.2
             }
            },
            "type": "barpolar"
           }
          ],
          "carpet": [
           {
            "aaxis": {
             "endlinecolor": "#2a3f5f",
             "gridcolor": "white",
             "linecolor": "white",
             "minorgridcolor": "white",
             "startlinecolor": "#2a3f5f"
            },
            "baxis": {
             "endlinecolor": "#2a3f5f",
             "gridcolor": "white",
             "linecolor": "white",
             "minorgridcolor": "white",
             "startlinecolor": "#2a3f5f"
            },
            "type": "carpet"
           }
          ],
          "choropleth": [
           {
            "colorbar": {
             "outlinewidth": 0,
             "ticks": ""
            },
            "type": "choropleth"
           }
          ],
          "contour": [
           {
            "colorbar": {
             "outlinewidth": 0,
             "ticks": ""
            },
            "colorscale": [
             [
              0,
              "#0d0887"
             ],
             [
              0.1111111111111111,
              "#46039f"
             ],
             [
              0.2222222222222222,
              "#7201a8"
             ],
             [
              0.3333333333333333,
              "#9c179e"
             ],
             [
              0.4444444444444444,
              "#bd3786"
             ],
             [
              0.5555555555555556,
              "#d8576b"
             ],
             [
              0.6666666666666666,
              "#ed7953"
             ],
             [
              0.7777777777777778,
              "#fb9f3a"
             ],
             [
              0.8888888888888888,
              "#fdca26"
             ],
             [
              1,
              "#f0f921"
             ]
            ],
            "type": "contour"
           }
          ],
          "contourcarpet": [
           {
            "colorbar": {
             "outlinewidth": 0,
             "ticks": ""
            },
            "type": "contourcarpet"
           }
          ],
          "heatmap": [
           {
            "colorbar": {
             "outlinewidth": 0,
             "ticks": ""
            },
            "colorscale": [
             [
              0,
              "#0d0887"
             ],
             [
              0.1111111111111111,
              "#46039f"
             ],
             [
              0.2222222222222222,
              "#7201a8"
             ],
             [
              0.3333333333333333,
              "#9c179e"
             ],
             [
              0.4444444444444444,
              "#bd3786"
             ],
             [
              0.5555555555555556,
              "#d8576b"
             ],
             [
              0.6666666666666666,
              "#ed7953"
             ],
             [
              0.7777777777777778,
              "#fb9f3a"
             ],
             [
              0.8888888888888888,
              "#fdca26"
             ],
             [
              1,
              "#f0f921"
             ]
            ],
            "type": "heatmap"
           }
          ],
          "heatmapgl": [
           {
            "colorbar": {
             "outlinewidth": 0,
             "ticks": ""
            },
            "colorscale": [
             [
              0,
              "#0d0887"
             ],
             [
              0.1111111111111111,
              "#46039f"
             ],
             [
              0.2222222222222222,
              "#7201a8"
             ],
             [
              0.3333333333333333,
              "#9c179e"
             ],
             [
              0.4444444444444444,
              "#bd3786"
             ],
             [
              0.5555555555555556,
              "#d8576b"
             ],
             [
              0.6666666666666666,
              "#ed7953"
             ],
             [
              0.7777777777777778,
              "#fb9f3a"
             ],
             [
              0.8888888888888888,
              "#fdca26"
             ],
             [
              1,
              "#f0f921"
             ]
            ],
            "type": "heatmapgl"
           }
          ],
          "histogram": [
           {
            "marker": {
             "pattern": {
              "fillmode": "overlay",
              "size": 10,
              "solidity": 0.2
             }
            },
            "type": "histogram"
           }
          ],
          "histogram2d": [
           {
            "colorbar": {
             "outlinewidth": 0,
             "ticks": ""
            },
            "colorscale": [
             [
              0,
              "#0d0887"
             ],
             [
              0.1111111111111111,
              "#46039f"
             ],
             [
              0.2222222222222222,
              "#7201a8"
             ],
             [
              0.3333333333333333,
              "#9c179e"
             ],
             [
              0.4444444444444444,
              "#bd3786"
             ],
             [
              0.5555555555555556,
              "#d8576b"
             ],
             [
              0.6666666666666666,
              "#ed7953"
             ],
             [
              0.7777777777777778,
              "#fb9f3a"
             ],
             [
              0.8888888888888888,
              "#fdca26"
             ],
             [
              1,
              "#f0f921"
             ]
            ],
            "type": "histogram2d"
           }
          ],
          "histogram2dcontour": [
           {
            "colorbar": {
             "outlinewidth": 0,
             "ticks": ""
            },
            "colorscale": [
             [
              0,
              "#0d0887"
             ],
             [
              0.1111111111111111,
              "#46039f"
             ],
             [
              0.2222222222222222,
              "#7201a8"
             ],
             [
              0.3333333333333333,
              "#9c179e"
             ],
             [
              0.4444444444444444,
              "#bd3786"
             ],
             [
              0.5555555555555556,
              "#d8576b"
             ],
             [
              0.6666666666666666,
              "#ed7953"
             ],
             [
              0.7777777777777778,
              "#fb9f3a"
             ],
             [
              0.8888888888888888,
              "#fdca26"
             ],
             [
              1,
              "#f0f921"
             ]
            ],
            "type": "histogram2dcontour"
           }
          ],
          "mesh3d": [
           {
            "colorbar": {
             "outlinewidth": 0,
             "ticks": ""
            },
            "type": "mesh3d"
           }
          ],
          "parcoords": [
           {
            "line": {
             "colorbar": {
              "outlinewidth": 0,
              "ticks": ""
             }
            },
            "type": "parcoords"
           }
          ],
          "pie": [
           {
            "automargin": true,
            "type": "pie"
           }
          ],
          "scatter": [
           {
            "fillpattern": {
             "fillmode": "overlay",
             "size": 10,
             "solidity": 0.2
            },
            "type": "scatter"
           }
          ],
          "scatter3d": [
           {
            "line": {
             "colorbar": {
              "outlinewidth": 0,
              "ticks": ""
             }
            },
            "marker": {
             "colorbar": {
              "outlinewidth": 0,
              "ticks": ""
             }
            },
            "type": "scatter3d"
           }
          ],
          "scattercarpet": [
           {
            "marker": {
             "colorbar": {
              "outlinewidth": 0,
              "ticks": ""
             }
            },
            "type": "scattercarpet"
           }
          ],
          "scattergeo": [
           {
            "marker": {
             "colorbar": {
              "outlinewidth": 0,
              "ticks": ""
             }
            },
            "type": "scattergeo"
           }
          ],
          "scattergl": [
           {
            "marker": {
             "colorbar": {
              "outlinewidth": 0,
              "ticks": ""
             }
            },
            "type": "scattergl"
           }
          ],
          "scattermapbox": [
           {
            "marker": {
             "colorbar": {
              "outlinewidth": 0,
              "ticks": ""
             }
            },
            "type": "scattermapbox"
           }
          ],
          "scatterpolar": [
           {
            "marker": {
             "colorbar": {
              "outlinewidth": 0,
              "ticks": ""
             }
            },
            "type": "scatterpolar"
           }
          ],
          "scatterpolargl": [
           {
            "marker": {
             "colorbar": {
              "outlinewidth": 0,
              "ticks": ""
             }
            },
            "type": "scatterpolargl"
           }
          ],
          "scatterternary": [
           {
            "marker": {
             "colorbar": {
              "outlinewidth": 0,
              "ticks": ""
             }
            },
            "type": "scatterternary"
           }
          ],
          "surface": [
           {
            "colorbar": {
             "outlinewidth": 0,
             "ticks": ""
            },
            "colorscale": [
             [
              0,
              "#0d0887"
             ],
             [
              0.1111111111111111,
              "#46039f"
             ],
             [
              0.2222222222222222,
              "#7201a8"
             ],
             [
              0.3333333333333333,
              "#9c179e"
             ],
             [
              0.4444444444444444,
              "#bd3786"
             ],
             [
              0.5555555555555556,
              "#d8576b"
             ],
             [
              0.6666666666666666,
              "#ed7953"
             ],
             [
              0.7777777777777778,
              "#fb9f3a"
             ],
             [
              0.8888888888888888,
              "#fdca26"
             ],
             [
              1,
              "#f0f921"
             ]
            ],
            "type": "surface"
           }
          ],
          "table": [
           {
            "cells": {
             "fill": {
              "color": "#EBF0F8"
             },
             "line": {
              "color": "white"
             }
            },
            "header": {
             "fill": {
              "color": "#C8D4E3"
             },
             "line": {
              "color": "white"
             }
            },
            "type": "table"
           }
          ]
         },
         "layout": {
          "annotationdefaults": {
           "arrowcolor": "#2a3f5f",
           "arrowhead": 0,
           "arrowwidth": 1
          },
          "autotypenumbers": "strict",
          "coloraxis": {
           "colorbar": {
            "outlinewidth": 0,
            "ticks": ""
           }
          },
          "colorscale": {
           "diverging": [
            [
             0,
             "#8e0152"
            ],
            [
             0.1,
             "#c51b7d"
            ],
            [
             0.2,
             "#de77ae"
            ],
            [
             0.3,
             "#f1b6da"
            ],
            [
             0.4,
             "#fde0ef"
            ],
            [
             0.5,
             "#f7f7f7"
            ],
            [
             0.6,
             "#e6f5d0"
            ],
            [
             0.7,
             "#b8e186"
            ],
            [
             0.8,
             "#7fbc41"
            ],
            [
             0.9,
             "#4d9221"
            ],
            [
             1,
             "#276419"
            ]
           ],
           "sequential": [
            [
             0,
             "#0d0887"
            ],
            [
             0.1111111111111111,
             "#46039f"
            ],
            [
             0.2222222222222222,
             "#7201a8"
            ],
            [
             0.3333333333333333,
             "#9c179e"
            ],
            [
             0.4444444444444444,
             "#bd3786"
            ],
            [
             0.5555555555555556,
             "#d8576b"
            ],
            [
             0.6666666666666666,
             "#ed7953"
            ],
            [
             0.7777777777777778,
             "#fb9f3a"
            ],
            [
             0.8888888888888888,
             "#fdca26"
            ],
            [
             1,
             "#f0f921"
            ]
           ],
           "sequentialminus": [
            [
             0,
             "#0d0887"
            ],
            [
             0.1111111111111111,
             "#46039f"
            ],
            [
             0.2222222222222222,
             "#7201a8"
            ],
            [
             0.3333333333333333,
             "#9c179e"
            ],
            [
             0.4444444444444444,
             "#bd3786"
            ],
            [
             0.5555555555555556,
             "#d8576b"
            ],
            [
             0.6666666666666666,
             "#ed7953"
            ],
            [
             0.7777777777777778,
             "#fb9f3a"
            ],
            [
             0.8888888888888888,
             "#fdca26"
            ],
            [
             1,
             "#f0f921"
            ]
           ]
          },
          "colorway": [
           "#636efa",
           "#EF553B",
           "#00cc96",
           "#ab63fa",
           "#FFA15A",
           "#19d3f3",
           "#FF6692",
           "#B6E880",
           "#FF97FF",
           "#FECB52"
          ],
          "font": {
           "color": "#2a3f5f"
          },
          "geo": {
           "bgcolor": "white",
           "lakecolor": "white",
           "landcolor": "#E5ECF6",
           "showlakes": true,
           "showland": true,
           "subunitcolor": "white"
          },
          "hoverlabel": {
           "align": "left"
          },
          "hovermode": "closest",
          "mapbox": {
           "style": "light"
          },
          "paper_bgcolor": "white",
          "plot_bgcolor": "#E5ECF6",
          "polar": {
           "angularaxis": {
            "gridcolor": "white",
            "linecolor": "white",
            "ticks": ""
           },
           "bgcolor": "#E5ECF6",
           "radialaxis": {
            "gridcolor": "white",
            "linecolor": "white",
            "ticks": ""
           }
          },
          "scene": {
           "xaxis": {
            "backgroundcolor": "#E5ECF6",
            "gridcolor": "white",
            "gridwidth": 2,
            "linecolor": "white",
            "showbackground": true,
            "ticks": "",
            "zerolinecolor": "white"
           },
           "yaxis": {
            "backgroundcolor": "#E5ECF6",
            "gridcolor": "white",
            "gridwidth": 2,
            "linecolor": "white",
            "showbackground": true,
            "ticks": "",
            "zerolinecolor": "white"
           },
           "zaxis": {
            "backgroundcolor": "#E5ECF6",
            "gridcolor": "white",
            "gridwidth": 2,
            "linecolor": "white",
            "showbackground": true,
            "ticks": "",
            "zerolinecolor": "white"
           }
          },
          "shapedefaults": {
           "line": {
            "color": "#2a3f5f"
           }
          },
          "ternary": {
           "aaxis": {
            "gridcolor": "white",
            "linecolor": "white",
            "ticks": ""
           },
           "baxis": {
            "gridcolor": "white",
            "linecolor": "white",
            "ticks": ""
           },
           "bgcolor": "#E5ECF6",
           "caxis": {
            "gridcolor": "white",
            "linecolor": "white",
            "ticks": ""
           }
          },
          "title": {
           "x": 0.05
          },
          "xaxis": {
           "automargin": true,
           "gridcolor": "white",
           "linecolor": "white",
           "ticks": "",
           "title": {
            "standoff": 15
           },
           "zerolinecolor": "white",
           "zerolinewidth": 2
          },
          "yaxis": {
           "automargin": true,
           "gridcolor": "white",
           "linecolor": "white",
           "ticks": "",
           "title": {
            "standoff": 15
           },
           "zerolinecolor": "white",
           "zerolinewidth": 2
          }
         }
        },
        "title": {
         "text": ""
        },
        "width": 900,
        "xaxis": {
         "range": [
          -4.5,
          13.5
         ],
         "tickfont": {
          "size": 16
         },
         "tickmode": "array",
         "ticktext": [
          "20",
          "10",
          "0",
          "10",
          "20"
         ],
         "tickvals": [
          -20,
          -10,
          0,
          10,
          20
         ]
        },
        "yaxis": {
         "automargin": true,
         "showticklabels": true,
         "tickfont": {
          "size": 16
         }
        }
       }
      }
     },
     "metadata": {},
     "output_type": "display_data"
    }
   ],
   "source": [
    "df = df.iloc[::-1]\n",
    "fig = go.Figure()\n",
    "\n",
    "category_order = [\n",
    "    'Extremely dissatisfied',\n",
    "    'Moderately dissatisfied',\n",
    "    'Slightly dissatisfied',\n",
    "    'Neither satisfied nor dissatisfied',\n",
    "    'Neither satisfied nor dissatisfied.1',\n",
    "    'Slightly satisfied',\n",
    "    'Moderately satisfied',\n",
    "    'Extremely satisfied'\n",
    "]\n",
    "\n",
    "df = df[[    \n",
    "    'Extremely dissatisfied',\n",
    "    'Moderately dissatisfied',\n",
    "    'Slightly dissatisfied',\n",
    "    'Neither satisfied nor dissatisfied',\n",
    "    'Neither satisfied nor dissatisfied.1',\n",
    "    'Slightly satisfied',\n",
    "    'Moderately satisfied',\n",
    "    'Extremely satisfied'\n",
    "]]\n",
    "\n",
    "fig.add_trace(go.Bar(\n",
    "    x = df[\"Neither satisfied nor dissatisfied\"],\n",
    "    y = df.index,\n",
    "    name = \"Neither satisfied<br>nor dissatisfied\",\n",
    "    # text = \n",
    "    # showlegend= False,\n",
    "    orientation = 'h',\n",
    "    marker_color = 'lightgrey',\n",
    "    legend=\"legend2\",\n",
    "    legendrank=4,\n",
    "    textfont=dict(size=16)\n",
    "))\n",
    "\n",
    "fig.add_trace(go.Bar(\n",
    "    x = df[\"Neither satisfied nor dissatisfied.1\"],\n",
    "    y = df.index,\n",
    "    name = \"Neither satisfied nor dissatisfied.1\",\n",
    "    text = (-df['Neither satisfied nor dissatisfied']+df['Neither satisfied nor dissatisfied.1']).abs(),\n",
    "    showlegend= False,\n",
    "    legend=\"legend2\",\n",
    "    orientation = 'h',\n",
    "    marker_color = 'lightgrey',\n",
    "    textfont=dict(size=16)\n",
    "))\n",
    "\n",
    "fig.add_trace(go.Bar(\n",
    "    x = df[\"Slightly dissatisfied\"],\n",
    "    y = df.index,\n",
    "    name = \"Slightly dissatisfied\",\n",
    "    text = df[\"Slightly dissatisfied\"].abs(),\n",
    "    orientation = 'h',\n",
    "    marker_color = cl.scales[str(len(category_order))]['div']['RdYlGn'][category_order.index(\"Slightly dissatisfied\")],\n",
    "    legend=\"legend3\",\n",
    "    legendrank=3,\n",
    "    textfont=dict(size=16)\n",
    "))   \n",
    "\n",
    "fig.add_trace(go.Bar(\n",
    "    x = df[\"Moderately dissatisfied\"],\n",
    "    y = df.index,\n",
    "    name = \"Moderately dissatisfied\",\n",
    "    text = df[\"Moderately dissatisfied\"].abs(),\n",
    "    orientation = 'h',\n",
    "    marker_color = cl.scales[str(len(category_order))]['div']['RdYlGn'][category_order.index(\"Moderately dissatisfied\")],\n",
    "    legend=\"legend3\",\n",
    "    legendrank=2,\n",
    "    textfont=dict(size=16)\n",
    "))   \n",
    "\n",
    "fig.add_trace(go.Bar(\n",
    "    x = df[\"Extremely dissatisfied\"],\n",
    "    y = df.index,\n",
    "    name = \"Extremely dissatisfied\",\n",
    "    text = df[\"Extremely dissatisfied\"].abs(),\n",
    "    orientation = 'h',\n",
    "    marker_color = cl.scales[str(len(category_order))]['div']['RdYlGn'][category_order.index(\"Extremely dissatisfied\")],\n",
    "    legend=\"legend3\",\n",
    "    legendrank=1,\n",
    "    textfont=dict(size=16)\n",
    "))     \n",
    "\n",
    "fig.add_trace(go.Bar(\n",
    "    x = df[\"Slightly satisfied\"],\n",
    "    y = df.index,\n",
    "    name = \"Slightly satisfied\",\n",
    "    text = df[\"Slightly satisfied\"].abs(),\n",
    "    orientation = 'h',\n",
    "    marker_color = cl.scales[str(len(category_order))]['div']['RdYlGn'][category_order.index(\"Slightly satisfied\")],\n",
    "    # legend=\"legend\",\n",
    "    legendrank=5,\n",
    "    textfont=dict(size=16)\n",
    "))\n",
    "\n",
    "fig.add_trace(go.Bar(\n",
    "    x = df[\"Moderately satisfied\"],\n",
    "    y = df.index,\n",
    "    name = \"Moderately satisfied\",\n",
    "    text = df[\"Moderately satisfied\"].abs(),\n",
    "    orientation = 'h',\n",
    "    marker_color = cl.scales[str(len(category_order))]['div']['RdYlGn'][category_order.index(\"Moderately satisfied\")],\n",
    "    # legend=\"legend\",\n",
    "    legendrank=6,\n",
    "    textfont=dict(size=16)\n",
    "))\n",
    "\n",
    "fig.add_trace(go.Bar(\n",
    "    x = df[\"Extremely satisfied\"],\n",
    "    y = df.index,\n",
    "    name = \"Extremely satisfied\",\n",
    "    text = df[\"Extremely satisfied\"].abs(),\n",
    "    orientation = 'h',\n",
    "    marker_color = cl.scales[str(len(category_order))]['div']['RdYlGn'][category_order.index(\"Extremely satisfied\")],\n",
    "    # legend=\"legend\",\n",
    "    legendrank=7,\n",
    "    textfont=dict(size=16)\n",
    "))    \n",
    "\n",
    "fig.update_layout(\n",
    "    margin=dict(l=200, r=5, t=5, b=5),\n",
    "    barmode = 'relative',\n",
    "    title = '',\n",
    "    xaxis = dict(\n",
    "        tickmode = 'array',\n",
    "        tickvals = [-20, -10, 0, 10, 20],\n",
    "        ticktext = ['20', '10', '0', '10', '20'],\n",
    "        tickfont=dict(size=16),\n",
    "        range = [-4.5, 13.5],\n",
    "    ), \n",
    "    legend=dict(\n",
    "        yanchor=\"top\", \n",
    "        y=-0.08, \n",
    "        xanchor=\"center\", \n",
    "        x=0.85,  # Adjust this value to move the legend more to the left\n",
    "        font=dict(size=16),\n",
    "        traceorder='reversed',\n",
    "        orientation=\"v\",\n",
    "        # title=\"Satisfied\"\n",
    "    ),\n",
    "    legend2=dict(\n",
    "        yanchor=\"top\", \n",
    "        y=-0.08, \n",
    "        xanchor=\"center\", \n",
    "        x=0.35,  # Adjust this value to move the legend more to the left\n",
    "        font=dict(size=16),\n",
    "        traceorder='reversed',\n",
    "        orientation=\"v\",\n",
    "        # title=\"Neutral\"\n",
    "    ),\n",
    "    legend3=dict(\n",
    "        yanchor=\"top\", \n",
    "        y=-0.08, \n",
    "        xanchor=\"center\", \n",
    "        x=-0.15,  # Adjust this value to move the legend more to the left\n",
    "        font=dict(size=16),\n",
    "        traceorder='reversed',\n",
    "        orientation=\"v\",\n",
    "        # title=\"Dissatisfied\"\n",
    "    ),\n",
    "    yaxis=dict(\n",
    "        tickfont=dict(size=16)  # Increase the font size for y-axis labels here\n",
    "    ),\n",
    "    autosize=False,\n",
    "    width=900,\n",
    "    height=df.shape[0]*50+100,\n",
    ")\n",
    "\n",
    "fig.update_traces(textposition='inside', textfont_size=18)\n",
    "\n",
    "fig.update_yaxes(showticklabels=True, automargin=True)\n",
    "fig.show()\n",
    "fig.write_image(\"../generated-figures/satisfaction.pdf\")\n"
   ]
  },
  {
   "cell_type": "code",
   "execution_count": null,
   "metadata": {},
   "outputs": [],
   "source": []
  }
 ],
 "metadata": {
  "kernelspec": {
   "display_name": "gh-quality-analytics",
   "language": "python",
   "name": "python3"
  },
  "language_info": {
   "codemirror_mode": {
    "name": "ipython",
    "version": 3
   },
   "file_extension": ".py",
   "mimetype": "text/x-python",
   "name": "python",
   "nbconvert_exporter": "python",
   "pygments_lexer": "ipython3",
   "version": "3.9.5"
  }
 },
 "nbformat": 4,
 "nbformat_minor": 2
}
